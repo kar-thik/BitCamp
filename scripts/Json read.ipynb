{
 "cells": [
  {
   "cell_type": "code",
   "execution_count": 16,
   "metadata": {
    "collapsed": true
   },
   "outputs": [],
   "source": [
    "import pandas as pd\n",
    "from pandas.io.json import json_normalize"
   ]
  },
  {
   "cell_type": "code",
   "execution_count": 6,
   "metadata": {
    "collapsed": true
   },
   "outputs": [],
   "source": [
    "df_temp = pd.read_json('./../data/doe-pdl-3-26-2018.json')"
   ]
  },
  {
   "cell_type": "code",
   "execution_count": 7,
   "metadata": {},
   "outputs": [
    {
     "data": {
      "text/plain": [
       "Index(['@context', '@type', 'conformsTo', 'dataset', 'describedBy'], dtype='object')"
      ]
     },
     "execution_count": 7,
     "metadata": {},
     "output_type": "execute_result"
    }
   ],
   "source": [
    "df_temp.columns"
   ]
  },
  {
   "cell_type": "code",
   "execution_count": 9,
   "metadata": {},
   "outputs": [
    {
     "data": {
      "text/html": [
       "<div>\n",
       "<style>\n",
       "    .dataframe thead tr:only-child th {\n",
       "        text-align: right;\n",
       "    }\n",
       "\n",
       "    .dataframe thead th {\n",
       "        text-align: left;\n",
       "    }\n",
       "\n",
       "    .dataframe tbody tr th {\n",
       "        vertical-align: top;\n",
       "    }\n",
       "</style>\n",
       "<table border=\"1\" class=\"dataframe\">\n",
       "  <thead>\n",
       "    <tr style=\"text-align: right;\">\n",
       "      <th></th>\n",
       "      <th>@context</th>\n",
       "      <th>@type</th>\n",
       "      <th>conformsTo</th>\n",
       "      <th>dataset</th>\n",
       "      <th>describedBy</th>\n",
       "    </tr>\n",
       "  </thead>\n",
       "  <tbody>\n",
       "    <tr>\n",
       "      <th>0</th>\n",
       "      <td>https://project-open-data.cio.gov/v1.1/schema/...</td>\n",
       "      <td>dcat:Catalog</td>\n",
       "      <td>https://project-open-data.cio.gov/v1.1/schema</td>\n",
       "      <td>{'@type': 'dcat:Dataset', 'title': 'Agency Par...</td>\n",
       "      <td>https://project-open-data.cio.gov/v1.1/schema/...</td>\n",
       "    </tr>\n",
       "    <tr>\n",
       "      <th>1</th>\n",
       "      <td>https://project-open-data.cio.gov/v1.1/schema/...</td>\n",
       "      <td>dcat:Catalog</td>\n",
       "      <td>https://project-open-data.cio.gov/v1.1/schema</td>\n",
       "      <td>{'@type': 'dcat:Dataset', 'title': 'Congressio...</td>\n",
       "      <td>https://project-open-data.cio.gov/v1.1/schema/...</td>\n",
       "    </tr>\n",
       "    <tr>\n",
       "      <th>2</th>\n",
       "      <td>https://project-open-data.cio.gov/v1.1/schema/...</td>\n",
       "      <td>dcat:Catalog</td>\n",
       "      <td>https://project-open-data.cio.gov/v1.1/schema</td>\n",
       "      <td>{'@type': 'dcat:Dataset', 'title': 'Agency IT ...</td>\n",
       "      <td>https://project-open-data.cio.gov/v1.1/schema/...</td>\n",
       "    </tr>\n",
       "    <tr>\n",
       "      <th>3</th>\n",
       "      <td>https://project-open-data.cio.gov/v1.1/schema/...</td>\n",
       "      <td>dcat:Catalog</td>\n",
       "      <td>https://project-open-data.cio.gov/v1.1/schema</td>\n",
       "      <td>{'@type': 'dcat:Dataset', 'title': 'CIO Govern...</td>\n",
       "      <td>https://project-open-data.cio.gov/v1.1/schema/...</td>\n",
       "    </tr>\n",
       "    <tr>\n",
       "      <th>4</th>\n",
       "      <td>https://project-open-data.cio.gov/v1.1/schema/...</td>\n",
       "      <td>dcat:Catalog</td>\n",
       "      <td>https://project-open-data.cio.gov/v1.1/schema</td>\n",
       "      <td>{'@type': 'dcat:Dataset', 'title': 'DOE FITARA...</td>\n",
       "      <td>https://project-open-data.cio.gov/v1.1/schema/...</td>\n",
       "    </tr>\n",
       "    <tr>\n",
       "      <th>5</th>\n",
       "      <td>https://project-open-data.cio.gov/v1.1/schema/...</td>\n",
       "      <td>dcat:Catalog</td>\n",
       "      <td>https://project-open-data.cio.gov/v1.1/schema</td>\n",
       "      <td>{'@type': 'dcat:Dataset', 'title': 'DOE Hearin...</td>\n",
       "      <td>https://project-open-data.cio.gov/v1.1/schema/...</td>\n",
       "    </tr>\n",
       "    <tr>\n",
       "      <th>6</th>\n",
       "      <td>https://project-open-data.cio.gov/v1.1/schema/...</td>\n",
       "      <td>dcat:Catalog</td>\n",
       "      <td>https://project-open-data.cio.gov/v1.1/schema</td>\n",
       "      <td>{'@type': 'dcat:Dataset', 'title': 'DOE IT Ref...</td>\n",
       "      <td>https://project-open-data.cio.gov/v1.1/schema/...</td>\n",
       "    </tr>\n",
       "    <tr>\n",
       "      <th>7</th>\n",
       "      <td>https://project-open-data.cio.gov/v1.1/schema/...</td>\n",
       "      <td>dcat:Catalog</td>\n",
       "      <td>https://project-open-data.cio.gov/v1.1/schema</td>\n",
       "      <td>{'@type': 'dcat:Dataset', 'title': 'Enterprise...</td>\n",
       "      <td>https://project-open-data.cio.gov/v1.1/schema/...</td>\n",
       "    </tr>\n",
       "    <tr>\n",
       "      <th>8</th>\n",
       "      <td>https://project-open-data.cio.gov/v1.1/schema/...</td>\n",
       "      <td>dcat:Catalog</td>\n",
       "      <td>https://project-open-data.cio.gov/v1.1/schema</td>\n",
       "      <td>{'@type': 'dcat:Dataset', 'title': 'Energy.gov...</td>\n",
       "      <td>https://project-open-data.cio.gov/v1.1/schema/...</td>\n",
       "    </tr>\n",
       "    <tr>\n",
       "      <th>9</th>\n",
       "      <td>https://project-open-data.cio.gov/v1.1/schema/...</td>\n",
       "      <td>dcat:Catalog</td>\n",
       "      <td>https://project-open-data.cio.gov/v1.1/schema</td>\n",
       "      <td>{'@type': 'dcat:Dataset', 'title': 'Bureau IT ...</td>\n",
       "      <td>https://project-open-data.cio.gov/v1.1/schema/...</td>\n",
       "    </tr>\n",
       "  </tbody>\n",
       "</table>\n",
       "</div>"
      ],
      "text/plain": [
       "                                            @context         @type  \\\n",
       "0  https://project-open-data.cio.gov/v1.1/schema/...  dcat:Catalog   \n",
       "1  https://project-open-data.cio.gov/v1.1/schema/...  dcat:Catalog   \n",
       "2  https://project-open-data.cio.gov/v1.1/schema/...  dcat:Catalog   \n",
       "3  https://project-open-data.cio.gov/v1.1/schema/...  dcat:Catalog   \n",
       "4  https://project-open-data.cio.gov/v1.1/schema/...  dcat:Catalog   \n",
       "5  https://project-open-data.cio.gov/v1.1/schema/...  dcat:Catalog   \n",
       "6  https://project-open-data.cio.gov/v1.1/schema/...  dcat:Catalog   \n",
       "7  https://project-open-data.cio.gov/v1.1/schema/...  dcat:Catalog   \n",
       "8  https://project-open-data.cio.gov/v1.1/schema/...  dcat:Catalog   \n",
       "9  https://project-open-data.cio.gov/v1.1/schema/...  dcat:Catalog   \n",
       "\n",
       "                                      conformsTo  \\\n",
       "0  https://project-open-data.cio.gov/v1.1/schema   \n",
       "1  https://project-open-data.cio.gov/v1.1/schema   \n",
       "2  https://project-open-data.cio.gov/v1.1/schema   \n",
       "3  https://project-open-data.cio.gov/v1.1/schema   \n",
       "4  https://project-open-data.cio.gov/v1.1/schema   \n",
       "5  https://project-open-data.cio.gov/v1.1/schema   \n",
       "6  https://project-open-data.cio.gov/v1.1/schema   \n",
       "7  https://project-open-data.cio.gov/v1.1/schema   \n",
       "8  https://project-open-data.cio.gov/v1.1/schema   \n",
       "9  https://project-open-data.cio.gov/v1.1/schema   \n",
       "\n",
       "                                             dataset  \\\n",
       "0  {'@type': 'dcat:Dataset', 'title': 'Agency Par...   \n",
       "1  {'@type': 'dcat:Dataset', 'title': 'Congressio...   \n",
       "2  {'@type': 'dcat:Dataset', 'title': 'Agency IT ...   \n",
       "3  {'@type': 'dcat:Dataset', 'title': 'CIO Govern...   \n",
       "4  {'@type': 'dcat:Dataset', 'title': 'DOE FITARA...   \n",
       "5  {'@type': 'dcat:Dataset', 'title': 'DOE Hearin...   \n",
       "6  {'@type': 'dcat:Dataset', 'title': 'DOE IT Ref...   \n",
       "7  {'@type': 'dcat:Dataset', 'title': 'Enterprise...   \n",
       "8  {'@type': 'dcat:Dataset', 'title': 'Energy.gov...   \n",
       "9  {'@type': 'dcat:Dataset', 'title': 'Bureau IT ...   \n",
       "\n",
       "                                         describedBy  \n",
       "0  https://project-open-data.cio.gov/v1.1/schema/...  \n",
       "1  https://project-open-data.cio.gov/v1.1/schema/...  \n",
       "2  https://project-open-data.cio.gov/v1.1/schema/...  \n",
       "3  https://project-open-data.cio.gov/v1.1/schema/...  \n",
       "4  https://project-open-data.cio.gov/v1.1/schema/...  \n",
       "5  https://project-open-data.cio.gov/v1.1/schema/...  \n",
       "6  https://project-open-data.cio.gov/v1.1/schema/...  \n",
       "7  https://project-open-data.cio.gov/v1.1/schema/...  \n",
       "8  https://project-open-data.cio.gov/v1.1/schema/...  \n",
       "9  https://project-open-data.cio.gov/v1.1/schema/...  "
      ]
     },
     "execution_count": 9,
     "metadata": {},
     "output_type": "execute_result"
    }
   ],
   "source": [
    "df_temp.head(10)"
   ]
  },
  {
   "cell_type": "code",
   "execution_count": 25,
   "metadata": {},
   "outputs": [
    {
     "data": {
      "text/plain": [
       "0       https://project-open-data.cio.gov/v1.1/schema/...\n",
       "1       https://project-open-data.cio.gov/v1.1/schema/...\n",
       "2       https://project-open-data.cio.gov/v1.1/schema/...\n",
       "3       https://project-open-data.cio.gov/v1.1/schema/...\n",
       "4       https://project-open-data.cio.gov/v1.1/schema/...\n",
       "5       https://project-open-data.cio.gov/v1.1/schema/...\n",
       "6       https://project-open-data.cio.gov/v1.1/schema/...\n",
       "7       https://project-open-data.cio.gov/v1.1/schema/...\n",
       "8       https://project-open-data.cio.gov/v1.1/schema/...\n",
       "9       https://project-open-data.cio.gov/v1.1/schema/...\n",
       "10      https://project-open-data.cio.gov/v1.1/schema/...\n",
       "11      https://project-open-data.cio.gov/v1.1/schema/...\n",
       "12      https://project-open-data.cio.gov/v1.1/schema/...\n",
       "13      https://project-open-data.cio.gov/v1.1/schema/...\n",
       "14      https://project-open-data.cio.gov/v1.1/schema/...\n",
       "15      https://project-open-data.cio.gov/v1.1/schema/...\n",
       "16      https://project-open-data.cio.gov/v1.1/schema/...\n",
       "17      https://project-open-data.cio.gov/v1.1/schema/...\n",
       "18      https://project-open-data.cio.gov/v1.1/schema/...\n",
       "19      https://project-open-data.cio.gov/v1.1/schema/...\n",
       "20      https://project-open-data.cio.gov/v1.1/schema/...\n",
       "21      https://project-open-data.cio.gov/v1.1/schema/...\n",
       "22      https://project-open-data.cio.gov/v1.1/schema/...\n",
       "23      https://project-open-data.cio.gov/v1.1/schema/...\n",
       "24      https://project-open-data.cio.gov/v1.1/schema/...\n",
       "25      https://project-open-data.cio.gov/v1.1/schema/...\n",
       "26      https://project-open-data.cio.gov/v1.1/schema/...\n",
       "27      https://project-open-data.cio.gov/v1.1/schema/...\n",
       "28      https://project-open-data.cio.gov/v1.1/schema/...\n",
       "29      https://project-open-data.cio.gov/v1.1/schema/...\n",
       "                              ...                        \n",
       "2760    https://project-open-data.cio.gov/v1.1/schema/...\n",
       "2761    https://project-open-data.cio.gov/v1.1/schema/...\n",
       "2762    https://project-open-data.cio.gov/v1.1/schema/...\n",
       "2763    https://project-open-data.cio.gov/v1.1/schema/...\n",
       "2764    https://project-open-data.cio.gov/v1.1/schema/...\n",
       "2765    https://project-open-data.cio.gov/v1.1/schema/...\n",
       "2766    https://project-open-data.cio.gov/v1.1/schema/...\n",
       "2767    https://project-open-data.cio.gov/v1.1/schema/...\n",
       "2768    https://project-open-data.cio.gov/v1.1/schema/...\n",
       "2769    https://project-open-data.cio.gov/v1.1/schema/...\n",
       "2770    https://project-open-data.cio.gov/v1.1/schema/...\n",
       "2771    https://project-open-data.cio.gov/v1.1/schema/...\n",
       "2772    https://project-open-data.cio.gov/v1.1/schema/...\n",
       "2773    https://project-open-data.cio.gov/v1.1/schema/...\n",
       "2774    https://project-open-data.cio.gov/v1.1/schema/...\n",
       "2775    https://project-open-data.cio.gov/v1.1/schema/...\n",
       "2776    https://project-open-data.cio.gov/v1.1/schema/...\n",
       "2777    https://project-open-data.cio.gov/v1.1/schema/...\n",
       "2778    https://project-open-data.cio.gov/v1.1/schema/...\n",
       "2779    https://project-open-data.cio.gov/v1.1/schema/...\n",
       "2780    https://project-open-data.cio.gov/v1.1/schema/...\n",
       "2781    https://project-open-data.cio.gov/v1.1/schema/...\n",
       "2782    https://project-open-data.cio.gov/v1.1/schema/...\n",
       "2783    https://project-open-data.cio.gov/v1.1/schema/...\n",
       "2784    https://project-open-data.cio.gov/v1.1/schema/...\n",
       "2785    https://project-open-data.cio.gov/v1.1/schema/...\n",
       "2786    https://project-open-data.cio.gov/v1.1/schema/...\n",
       "2787    https://project-open-data.cio.gov/v1.1/schema/...\n",
       "2788    https://project-open-data.cio.gov/v1.1/schema/...\n",
       "2789    https://project-open-data.cio.gov/v1.1/schema/...\n",
       "Name: @context, Length: 2790, dtype: object"
      ]
     },
     "execution_count": 25,
     "metadata": {},
     "output_type": "execute_result"
    }
   ],
   "source": [
    "df_temp['@context']"
   ]
  },
  {
   "cell_type": "code",
   "execution_count": 17,
   "metadata": {},
   "outputs": [
    {
     "data": {
      "text/plain": [
       "'https://project-open-data.cio.gov/v1.1/schema/catalog.json'"
      ]
     },
     "execution_count": 17,
     "metadata": {},
     "output_type": "execute_result"
    }
   ],
   "source": [
    "df_temp['describedBy'][1]"
   ]
  },
  {
   "cell_type": "code",
   "execution_count": 23,
   "metadata": {},
   "outputs": [
    {
     "data": {
      "text/plain": [
       "array(['https://project-open-data.cio.gov/v1.1/schema'], dtype=object)"
      ]
     },
     "execution_count": 23,
     "metadata": {},
     "output_type": "execute_result"
    }
   ],
   "source": [
    "df_temp['conformsTo'].unique()"
   ]
  },
  {
   "cell_type": "code",
   "execution_count": null,
   "metadata": {
    "collapsed": true
   },
   "outputs": [],
   "source": []
  }
 ],
 "metadata": {
  "kernelspec": {
   "display_name": "Python 3",
   "language": "python",
   "name": "python3"
  },
  "language_info": {
   "codemirror_mode": {
    "name": "ipython",
    "version": 3
   },
   "file_extension": ".py",
   "mimetype": "text/x-python",
   "name": "python",
   "nbconvert_exporter": "python",
   "pygments_lexer": "ipython3",
   "version": "3.6.3"
  }
 },
 "nbformat": 4,
 "nbformat_minor": 2
}
